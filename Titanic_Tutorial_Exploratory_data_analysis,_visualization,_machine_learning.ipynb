{
  "nbformat": 4,
  "nbformat_minor": 0,
  "metadata": {
    "colab": {
      "provenance": [],
      "authorship_tag": "ABX9TyMhATcT0pe6Bzelwgo7ByH5",
      "include_colab_link": true
    },
    "kernelspec": {
      "name": "python3",
      "display_name": "Python 3"
    },
    "language_info": {
      "name": "python"
    }
  },
  "cells": [
    {
      "cell_type": "markdown",
      "metadata": {
        "id": "view-in-github",
        "colab_type": "text"
      },
      "source": [
        "<a href=\"https://colab.research.google.com/github/haeunkim48/Kaggle_transcription_learning/blob/main/Titanic_Tutorial_Exploratory_data_analysis%2C_visualization%2C_machine_learning.ipynb\" target=\"_parent\"><img src=\"https://colab.research.google.com/assets/colab-badge.svg\" alt=\"Open In Colab\"/></a>"
      ]
    },
    {
      "cell_type": "markdown",
      "source": [
        "In this tutorial, we will use the personal information of the people on board the Titanic to create a model that predicts the survival of those on board.\n",
        "\n",
        "In this tutorial, we will use several visualization tools (matplotlib, seaborn, plotly), data analysis tools (pandas, numpy), and machine learning tools (sklearn)."
      ],
      "metadata": {
        "id": "x6apTNND0qEi"
      }
    },
    {
      "cell_type": "code",
      "source": [
        "import numpy as np\n",
        "import pandas as pd\n",
        "import matplotlib.pyplot as plt\n",
        "import seaborn as sns\n",
        "\n",
        "plt.style.use('seaborn')\n",
        "sns.set(font_scale =2.5)\n",
        "\n",
        "import missingno as msno\n",
        "\n",
        "# ignore warnings\n",
        "import warnings\n",
        "\n",
        "%matplotlib inline"
      ],
      "metadata": {
        "colab": {
          "base_uri": "https://localhost:8080/"
        },
        "id": "GBLivVW104vx",
        "outputId": "a6150938-3970-4ba9-ecbf-13e59106aab3"
      },
      "execution_count": 1,
      "outputs": [
        {
          "output_type": "stream",
          "name": "stderr",
          "text": [
            "<ipython-input-1-602f331f5686>:6: MatplotlibDeprecationWarning: The seaborn styles shipped by Matplotlib are deprecated since 3.6, as they no longer correspond to the styles shipped by seaborn. However, they will remain available as 'seaborn-v0_8-<style>'. Alternatively, directly use the seaborn API instead.\n",
            "  plt.style.use('seaborn')\n"
          ]
        }
      ]
    },
    {
      "cell_type": "markdown",
      "source": [
        "1. Check datasets - Most caggle data are well refined. But sometimes null data exists. Check this and correct it in the future.\n",
        "\n",
        "2. Exploratory data analysis - analyzes several features individually and determines the correlation between the features. Get insights using multiple visualization tools.\n",
        "\n",
        "3. Feature engineering - Before setting up a model, engineering features to enhance the performance of the model. One-hot encoding, class division, interval division, text data processing, etc.\n",
        "\n",
        "4. Create model - Use sklearn to create a model. When learning machines on Python, you can use sklearn to use many algorithms in consistent grammar. Of course, you can use tenorflow, pytorch, etc. for deep learning.\n",
        "Model learning and prediction - Train the model with the trainset and predict with the testset.\n",
        "\n",
        "5. Model Evaluation - Determines if predictive performance is desired. The way the model is evaluated depends on the problem you are solving. See what the learned model has learned."
      ],
      "metadata": {
        "id": "fceduDZe1bQj"
      }
    },
    {
      "cell_type": "code",
      "source": [],
      "metadata": {
        "id": "PJ9yDShP1pzv"
      },
      "execution_count": null,
      "outputs": []
    }
  ]
}